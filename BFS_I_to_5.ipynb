{
  "nbformat": 4,
  "nbformat_minor": 0,
  "metadata": {
    "colab": {
      "name": "BFS_I to 5.ipynb",
      "provenance": []
    },
    "kernelspec": {
      "name": "python3",
      "display_name": "Python 3"
    },
    "language_info": {
      "name": "python"
    }
  },
  "cells": [
    {
      "cell_type": "code",
      "metadata": {
        "id": "tGO4JR2D4Edb"
      },
      "source": [
        "#MODIFY CODING DENGAN KOTA-KOTA SEKITAR TEMPAT TINGGAL\n",
        "#BFS(BREATDH FIRST SEARCH)\n",
        "graf = {'I':set(['ABC']),\n",
        "        'E':set(['F']),\n",
        "        'F':set(['J']),\n",
        "        'ABC':set(['J','12','13']),\n",
        "        'J':set(['G','ABC','H']),\n",
        "        'H':set(['C','D']),\n",
        "        'C':set(['A','B']),\n",
        "        '12':set(['9','11']),\n",
        "        '13':set(['4']),\n",
        "        '11':set(['9','8']),\n",
        "        '8':set(['7']),\n",
        "        '7':set(['6']),\n",
        "        '6':set(['3']),\n",
        "        '3':set(['2']),\n",
        "        '2':set(['5']),\n",
        "        '4':set(['0','1','2']),\n",
        "        '1':set(['5']),\n",
        "        }\n",
        "\n",
        "def bfs (graf, mulai, tujuan) :\n",
        "  queue = [[mulai]]\n",
        "  visited = set ()\n",
        "\n",
        "  while queue:\n",
        "    jalur = queue.pop (0)\n",
        "    state = jalur [-1]\n",
        "    if state == tujuan:\n",
        "      return jalur\n",
        "    elif state not in visited:\n",
        "      for cabang in graf.get (state, []):\n",
        "        jalur_baru = list (jalur)\n",
        "        jalur_baru.append (cabang)\n",
        "        queue.append(jalur_baru)\n",
        "      visited.add (state)\n",
        "\n",
        "    isi = len (queue)\n",
        "    if isi == 0:\n",
        "      print (\"Tidak Ditemukan\")"
      ],
      "execution_count": 1,
      "outputs": []
    },
    {
      "cell_type": "code",
      "metadata": {
        "colab": {
          "base_uri": "https://localhost:8080/"
        },
        "id": "mtgAJh4rCKyq",
        "outputId": "005b5ab9-d858-4d5b-c62d-2fb2d15c90c6"
      },
      "source": [
        "bfs (graf, 'I', '5')"
      ],
      "execution_count": 2,
      "outputs": [
        {
          "output_type": "execute_result",
          "data": {
            "text/plain": [
              "['I', 'ABC', '13', '4', '1', '5']"
            ]
          },
          "metadata": {},
          "execution_count": 2
        }
      ]
    }
  ]
}