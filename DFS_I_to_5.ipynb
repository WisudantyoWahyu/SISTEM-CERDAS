{
  "nbformat": 4,
  "nbformat_minor": 0,
  "metadata": {
    "colab": {
      "name": "DFS_I to 5.ipynb",
      "provenance": []
    },
    "kernelspec": {
      "name": "python3",
      "display_name": "Python 3"
    },
    "language_info": {
      "name": "python"
    }
  },
  "cells": [
    {
      "cell_type": "code",
      "metadata": {
        "id": "KudRMhIBCl54"
      },
      "source": [
        "#MODIFY CODING DENGAN KOTA-KOTA SEKITAR TEMPAT TINGGAL\n",
        "#DFS(DEPTH FIRST SEARCH)\n",
        "graf = {'I':set(['ABC']),\n",
        "        'E':set(['F']),\n",
        "        'F':set(['J']),\n",
        "        'ABC':set(['J','12','13']),\n",
        "        'J':set(['G','ABC','H']),\n",
        "        'H':set(['C','D']),\n",
        "        'C':set(['A','B']),\n",
        "        '12':set(['9','11']),\n",
        "        '13':set(['4']),\n",
        "        '11':set(['9','8']),\n",
        "        '8':set(['7']),\n",
        "        '7':set(['6']),\n",
        "        '6':set(['3']),\n",
        "        '3':set(['2']),\n",
        "        '2':set(['5']),\n",
        "        '4':set(['0','1','2']),\n",
        "        '1':set(['5']),\n",
        "        }\n",
        "\n",
        "def dfs (graf, mulai, tujuan) :\n",
        "  stack = [[mulai]]\n",
        "  visited = set ()\n",
        "\n",
        "  while stack:\n",
        "    panjang_tumpukan = len(stack)-1\n",
        "    jalur = stack.pop(panjang_tumpukan)\n",
        "    state = jalur [-1]\n",
        "    if state == tujuan:\n",
        "      return jalur\n",
        "    elif state not in visited:\n",
        "      for cabang in graf.get (state, []):\n",
        "        jalur_baru = list (jalur)\n",
        "        jalur_baru.append (cabang)\n",
        "        stack.append(jalur_baru)\n",
        "      visited.add (state)\n",
        "\n",
        "    isi = len (stack)\n",
        "    if isi == 0:\n",
        "      print (\"Tidak Ditemukan\")"
      ],
      "execution_count": 1,
      "outputs": []
    },
    {
      "cell_type": "code",
      "metadata": {
        "colab": {
          "base_uri": "https://localhost:8080/"
        },
        "id": "q8UkVFV_CpJv",
        "outputId": "89140f9b-d54a-4edd-b8d2-29483d817ea2"
      },
      "source": [
        "dfs (graf, 'I', '5')"
      ],
      "execution_count": 2,
      "outputs": [
        {
          "output_type": "execute_result",
          "data": {
            "text/plain": [
              "['I', 'ABC', '12', '11', '8', '7', '6', '3', '2', '5']"
            ]
          },
          "metadata": {},
          "execution_count": 2
        }
      ]
    }
  ]
}