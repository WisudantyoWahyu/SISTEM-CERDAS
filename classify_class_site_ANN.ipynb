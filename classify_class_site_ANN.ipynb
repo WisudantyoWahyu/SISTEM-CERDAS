{
  "nbformat": 4,
  "nbformat_minor": 0,
  "metadata": {
    "kernelspec": {
      "display_name": "Python 3 (system-wide)",
      "language": "python",
      "metadata": {
        "cocalc": {
          "description": "Python 3 programming language",
          "priority": 100,
          "url": "https://www.python.org/"
        }
      },
      "name": "python3"
    },
    "language_info": {
      "codemirror_mode": {
        "name": "ipython",
        "version": 3
      },
      "file_extension": ".py",
      "mimetype": "text/x-python",
      "name": "python",
      "nbconvert_exporter": "python",
      "pygments_lexer": "ipython3",
      "version": "3.6.8"
    },
    "colab": {
      "name": "classify_class site_ANN.ipynb",
      "provenance": [],
      "include_colab_link": true
    }
  },
  "cells": [
    {
      "cell_type": "markdown",
      "metadata": {
        "id": "view-in-github",
        "colab_type": "text"
      },
      "source": [
        "<a href=\"https://colab.research.google.com/github/WisudantyoWahyu/SISTEM-CERDAS/blob/main/classify_class_site_ANN.ipynb\" target=\"_parent\"><img src=\"https://colab.research.google.com/assets/colab-badge.svg\" alt=\"Open In Colab\"/></a>"
      ]
    },
    {
      "cell_type": "code",
      "metadata": {
        "colab": {
          "base_uri": "https://localhost:8080/"
        },
        "id": "PDB9UOyp8TVw",
        "outputId": "b4801a08-35b5-418a-a900-b3f55f26500d"
      },
      "source": [
        "from google.colab import drive\n",
        "drive.mount('/content/drive')"
      ],
      "execution_count": 60,
      "outputs": [
        {
          "output_type": "stream",
          "name": "stdout",
          "text": [
            "Drive already mounted at /content/drive; to attempt to forcibly remount, call drive.mount(\"/content/drive\", force_remount=True).\n"
          ]
        }
      ]
    },
    {
      "cell_type": "code",
      "metadata": {
        "colab": {
          "base_uri": "https://localhost:8080/"
        },
        "id": "A_uZVJpWDO0u",
        "outputId": "162d0c85-3fa4-43b4-933c-d119ad5209b3"
      },
      "source": [
        "cd /content/drive/MyDrive/Colab Notebooks"
      ],
      "execution_count": 61,
      "outputs": [
        {
          "output_type": "stream",
          "name": "stdout",
          "text": [
            "/content/drive/MyDrive/Colab Notebooks\n"
          ]
        }
      ]
    },
    {
      "cell_type": "code",
      "metadata": {
        "colab": {
          "base_uri": "https://localhost:8080/",
          "height": 206
        },
        "id": "ZLsTWZHS4n3I",
        "outputId": "f48aec63-dfbc-489a-a5b2-325e437e050b"
      },
      "source": [
        "df = pd.read_csv('dataset2.csv')\n",
        "# df = pd.read_excel(\"xxx.xls\", sheet_name=\"sheet 1\")\n",
        "df.head()"
      ],
      "execution_count": 75,
      "outputs": [
        {
          "output_type": "execute_result",
          "data": {
            "text/html": [
              "\n",
              "  <div id=\"df-4c9b2456-3ff7-4c98-b5ca-875aed600e81\">\n",
              "    <div class=\"colab-df-container\">\n",
              "      <div>\n",
              "<style scoped>\n",
              "    .dataframe tbody tr th:only-of-type {\n",
              "        vertical-align: middle;\n",
              "    }\n",
              "\n",
              "    .dataframe tbody tr th {\n",
              "        vertical-align: top;\n",
              "    }\n",
              "\n",
              "    .dataframe thead th {\n",
              "        text-align: right;\n",
              "    }\n",
              "</style>\n",
              "<table border=\"1\" class=\"dataframe\">\n",
              "  <thead>\n",
              "    <tr style=\"text-align: right;\">\n",
              "      <th></th>\n",
              "      <th>Site</th>\n",
              "      <th>Payload Total (GB)</th>\n",
              "      <th>Traffic</th>\n",
              "      <th>Subs</th>\n",
              "      <th>Revenue</th>\n",
              "      <th>Class Rev</th>\n",
              "    </tr>\n",
              "  </thead>\n",
              "  <tbody>\n",
              "    <tr>\n",
              "      <th>0</th>\n",
              "      <td>Site 1</td>\n",
              "      <td>30419</td>\n",
              "      <td>1765</td>\n",
              "      <td>1414</td>\n",
              "      <td>134017424</td>\n",
              "      <td>Gold</td>\n",
              "    </tr>\n",
              "    <tr>\n",
              "      <th>1</th>\n",
              "      <td>Site 2</td>\n",
              "      <td>13872</td>\n",
              "      <td>1685</td>\n",
              "      <td>731</td>\n",
              "      <td>62952270</td>\n",
              "      <td>Silver</td>\n",
              "    </tr>\n",
              "    <tr>\n",
              "      <th>2</th>\n",
              "      <td>Site 3</td>\n",
              "      <td>28531</td>\n",
              "      <td>1070</td>\n",
              "      <td>1206</td>\n",
              "      <td>120884649</td>\n",
              "      <td>Gold</td>\n",
              "    </tr>\n",
              "    <tr>\n",
              "      <th>3</th>\n",
              "      <td>Site 4</td>\n",
              "      <td>10777</td>\n",
              "      <td>911</td>\n",
              "      <td>761</td>\n",
              "      <td>54450496</td>\n",
              "      <td>Bronze</td>\n",
              "    </tr>\n",
              "    <tr>\n",
              "      <th>4</th>\n",
              "      <td>Site 5</td>\n",
              "      <td>10990</td>\n",
              "      <td>1418</td>\n",
              "      <td>934</td>\n",
              "      <td>53238883</td>\n",
              "      <td>Bronze</td>\n",
              "    </tr>\n",
              "  </tbody>\n",
              "</table>\n",
              "</div>\n",
              "      <button class=\"colab-df-convert\" onclick=\"convertToInteractive('df-4c9b2456-3ff7-4c98-b5ca-875aed600e81')\"\n",
              "              title=\"Convert this dataframe to an interactive table.\"\n",
              "              style=\"display:none;\">\n",
              "        \n",
              "  <svg xmlns=\"http://www.w3.org/2000/svg\" height=\"24px\"viewBox=\"0 0 24 24\"\n",
              "       width=\"24px\">\n",
              "    <path d=\"M0 0h24v24H0V0z\" fill=\"none\"/>\n",
              "    <path d=\"M18.56 5.44l.94 2.06.94-2.06 2.06-.94-2.06-.94-.94-2.06-.94 2.06-2.06.94zm-11 1L8.5 8.5l.94-2.06 2.06-.94-2.06-.94L8.5 2.5l-.94 2.06-2.06.94zm10 10l.94 2.06.94-2.06 2.06-.94-2.06-.94-.94-2.06-.94 2.06-2.06.94z\"/><path d=\"M17.41 7.96l-1.37-1.37c-.4-.4-.92-.59-1.43-.59-.52 0-1.04.2-1.43.59L10.3 9.45l-7.72 7.72c-.78.78-.78 2.05 0 2.83L4 21.41c.39.39.9.59 1.41.59.51 0 1.02-.2 1.41-.59l7.78-7.78 2.81-2.81c.8-.78.8-2.07 0-2.86zM5.41 20L4 18.59l7.72-7.72 1.47 1.35L5.41 20z\"/>\n",
              "  </svg>\n",
              "      </button>\n",
              "      \n",
              "  <style>\n",
              "    .colab-df-container {\n",
              "      display:flex;\n",
              "      flex-wrap:wrap;\n",
              "      gap: 12px;\n",
              "    }\n",
              "\n",
              "    .colab-df-convert {\n",
              "      background-color: #E8F0FE;\n",
              "      border: none;\n",
              "      border-radius: 50%;\n",
              "      cursor: pointer;\n",
              "      display: none;\n",
              "      fill: #1967D2;\n",
              "      height: 32px;\n",
              "      padding: 0 0 0 0;\n",
              "      width: 32px;\n",
              "    }\n",
              "\n",
              "    .colab-df-convert:hover {\n",
              "      background-color: #E2EBFA;\n",
              "      box-shadow: 0px 1px 2px rgba(60, 64, 67, 0.3), 0px 1px 3px 1px rgba(60, 64, 67, 0.15);\n",
              "      fill: #174EA6;\n",
              "    }\n",
              "\n",
              "    [theme=dark] .colab-df-convert {\n",
              "      background-color: #3B4455;\n",
              "      fill: #D2E3FC;\n",
              "    }\n",
              "\n",
              "    [theme=dark] .colab-df-convert:hover {\n",
              "      background-color: #434B5C;\n",
              "      box-shadow: 0px 1px 3px 1px rgba(0, 0, 0, 0.15);\n",
              "      filter: drop-shadow(0px 1px 2px rgba(0, 0, 0, 0.3));\n",
              "      fill: #FFFFFF;\n",
              "    }\n",
              "  </style>\n",
              "\n",
              "      <script>\n",
              "        const buttonEl =\n",
              "          document.querySelector('#df-4c9b2456-3ff7-4c98-b5ca-875aed600e81 button.colab-df-convert');\n",
              "        buttonEl.style.display =\n",
              "          google.colab.kernel.accessAllowed ? 'block' : 'none';\n",
              "\n",
              "        async function convertToInteractive(key) {\n",
              "          const element = document.querySelector('#df-4c9b2456-3ff7-4c98-b5ca-875aed600e81');\n",
              "          const dataTable =\n",
              "            await google.colab.kernel.invokeFunction('convertToInteractive',\n",
              "                                                     [key], {});\n",
              "          if (!dataTable) return;\n",
              "\n",
              "          const docLinkHtml = 'Like what you see? Visit the ' +\n",
              "            '<a target=\"_blank\" href=https://colab.research.google.com/notebooks/data_table.ipynb>data table notebook</a>'\n",
              "            + ' to learn more about interactive tables.';\n",
              "          element.innerHTML = '';\n",
              "          dataTable['output_type'] = 'display_data';\n",
              "          await google.colab.output.renderOutput(dataTable, element);\n",
              "          const docLink = document.createElement('div');\n",
              "          docLink.innerHTML = docLinkHtml;\n",
              "          element.appendChild(docLink);\n",
              "        }\n",
              "      </script>\n",
              "    </div>\n",
              "  </div>\n",
              "  "
            ],
            "text/plain": [
              "     Site  Payload Total (GB)  Traffic  Subs    Revenue Class Rev\n",
              "0  Site 1               30419     1765  1414  134017424      Gold\n",
              "1  Site 2               13872     1685   731   62952270    Silver\n",
              "2  Site 3               28531     1070  1206  120884649      Gold\n",
              "3  Site 4               10777      911   761   54450496    Bronze\n",
              "4  Site 5               10990     1418   934   53238883    Bronze"
            ]
          },
          "metadata": {},
          "execution_count": 75
        }
      ]
    },
    {
      "cell_type": "code",
      "metadata": {
        "id": "vwUdBnpI4fMX"
      },
      "source": [
        "X = df.iloc[:,[1,2,3,4]].values\n",
        "Y = df.iloc[:,[5]].values"
      ],
      "execution_count": 63,
      "outputs": []
    },
    {
      "cell_type": "code",
      "metadata": {
        "id": "KwM9k-xaER1p"
      },
      "source": [
        "print(Y)"
      ],
      "execution_count": null,
      "outputs": []
    },
    {
      "cell_type": "code",
      "source": [
        "print(X)"
      ],
      "metadata": {
        "id": "6Bk1z3YCjMeu"
      },
      "execution_count": null,
      "outputs": []
    },
    {
      "cell_type": "code",
      "metadata": {
        "colab": {
          "base_uri": "https://localhost:8080/"
        },
        "id": "pIpKU3x85Z5y",
        "outputId": "4e579265-8238-4381-abda-5ba7b56b8b69"
      },
      "source": [
        "target_names = df['Class Rev'].unique()\n",
        "print(target_names)"
      ],
      "execution_count": 66,
      "outputs": [
        {
          "output_type": "stream",
          "name": "stdout",
          "text": [
            "['Gold' 'Silver' 'Bronze' 'Diamond' 'Platinum']\n"
          ]
        }
      ]
    },
    {
      "cell_type": "code",
      "metadata": {
        "colab": {
          "base_uri": "https://localhost:8080/"
        },
        "id": "Y_xTqq4V7q7J",
        "outputId": "4d746a23-8470-4db8-de2d-2bd390b85f15"
      },
      "source": [
        "print(X.shape)\n",
        "print(Y.shape)"
      ],
      "execution_count": 67,
      "outputs": [
        {
          "output_type": "stream",
          "name": "stdout",
          "text": [
            "(593, 4)\n",
            "(593, 1)\n"
          ]
        }
      ]
    },
    {
      "cell_type": "markdown",
      "metadata": {
        "id": "ExhmHl7Q5t7_"
      },
      "source": [
        "# **Artificial Neural Network**"
      ]
    },
    {
      "cell_type": "code",
      "metadata": {
        "id": "Eu7aptJJgRKE"
      },
      "source": [
        "# import the necessary packages\n",
        "from keras.models import Sequential\n",
        "# from keras.layers.convolutional import Conv2D\n",
        "# from keras.layers.convolutional import MaxPooling2D\n",
        "from keras.layers.core import Activation\n",
        "# from keras.layers.core import Flatten\n",
        "from keras.layers.core import Dense\n",
        "#from keras.optimizers import Adam\n",
        "from tensorflow.keras.optimizers import Adam\n",
        "from sklearn.preprocessing import LabelBinarizer\n",
        "# from sklearn.model_selection import train_test_split\n",
        "# from sklearn.metrics import classification_report\n",
        "# from PIL import Image\n",
        "# from imutils import paths\n",
        "# import numpy as np\n",
        "# import os"
      ],
      "execution_count": 68,
      "outputs": []
    },
    {
      "cell_type": "code",
      "metadata": {
        "id": "897YXSjv55ZC",
        "colab": {
          "base_uri": "https://localhost:8080/"
        },
        "outputId": "9ee10057-df43-4eb4-dd2a-7dc2523b960f"
      },
      "source": [
        "# encode the labels, converting them from strings to integers\n",
        "lb = LabelBinarizer()\n",
        "labels = lb.fit_transform(Y)\n",
        "print(labels)"
      ],
      "execution_count": 69,
      "outputs": [
        {
          "output_type": "stream",
          "name": "stdout",
          "text": [
            "[[0 0 1 0 0]\n",
            " [0 0 0 0 1]\n",
            " [0 0 1 0 0]\n",
            " ...\n",
            " [0 0 1 0 0]\n",
            " [0 0 0 0 1]\n",
            " [0 0 0 1 0]]\n"
          ]
        }
      ]
    },
    {
      "cell_type": "code",
      "metadata": {
        "colab": {
          "base_uri": "https://localhost:8080/"
        },
        "id": "_pcXvXBq59PY",
        "outputId": "b4cb2c3f-1951-4e25-8c33-ce6fe6efa007"
      },
      "source": [
        "(trainX, testX, trainY, testY) = train_test_split(X,\tnp.array(labels), test_size=0.25)\n",
        "print(trainX.shape)\n",
        "print(testX.shape)\n",
        "print(trainY.shape)\n",
        "print(testY.shape)"
      ],
      "execution_count": 70,
      "outputs": [
        {
          "output_type": "stream",
          "name": "stdout",
          "text": [
            "(444, 4)\n",
            "(149, 4)\n",
            "(444, 5)\n",
            "(149, 5)\n"
          ]
        }
      ]
    },
    {
      "cell_type": "code",
      "metadata": {
        "id": "73GGlwI76EkY"
      },
      "source": [
        "#model ANN\n",
        "\n",
        "model = Sequential(\n",
        "    [\n",
        "        Dense(64, activation=\"relu\", input_shape=(4,)), #hidden layer 1\n",
        "        Dense(32, activation=\"relu\"), #hidden layer 2\n",
        "        Dense(16, activation=\"relu\"),\n",
        "        #Dense(8, activation=\"relu\"),\n",
        "        Dense(5, activation = \"sigmoid\"),\n",
        "    ]\n",
        ")"
      ],
      "execution_count": 71,
      "outputs": []
    },
    {
      "cell_type": "code",
      "metadata": {
        "colab": {
          "base_uri": "https://localhost:8080/"
        },
        "id": "oWptPSzZ6V-_",
        "outputId": "dd2319c7-58d9-4615-8692-d4d4590b4b18"
      },
      "source": [
        "model.summary()"
      ],
      "execution_count": 72,
      "outputs": [
        {
          "output_type": "stream",
          "name": "stdout",
          "text": [
            "Model: \"sequential_5\"\n",
            "_________________________________________________________________\n",
            " Layer (type)                Output Shape              Param #   \n",
            "=================================================================\n",
            " dense_20 (Dense)            (None, 64)                320       \n",
            "                                                                 \n",
            " dense_21 (Dense)            (None, 32)                2080      \n",
            "                                                                 \n",
            " dense_22 (Dense)            (None, 16)                528       \n",
            "                                                                 \n",
            " dense_23 (Dense)            (None, 5)                 85        \n",
            "                                                                 \n",
            "=================================================================\n",
            "Total params: 3,013\n",
            "Trainable params: 3,013\n",
            "Non-trainable params: 0\n",
            "_________________________________________________________________\n"
          ]
        }
      ]
    },
    {
      "cell_type": "code",
      "metadata": {
        "colab": {
          "base_uri": "https://localhost:8080/"
        },
        "id": "-IoP9cED60mA",
        "outputId": "251432b3-cc7f-44c9-9a27-19c78661d326"
      },
      "source": [
        "# train the model using the Adam optimizer\n",
        "print(\"[INFO] training network...\")\n",
        "opt = Adam(lr=1e-5, decay=1e-5 / 50)\n",
        "model.compile(loss=\"categorical_crossentropy\", optimizer=opt, #2 kelas --> binary_crossentropy\n",
        "\tmetrics=[\"accuracy\"])\n",
        "H = model.fit(trainX, trainY, validation_data=(testX, testY), epochs=20, batch_size=20)"
      ],
      "execution_count": 73,
      "outputs": [
        {
          "output_type": "stream",
          "name": "stdout",
          "text": [
            "[INFO] training network...\n",
            "Epoch 1/20\n"
          ]
        },
        {
          "output_type": "stream",
          "name": "stderr",
          "text": [
            "/usr/local/lib/python3.7/dist-packages/keras/optimizer_v2/adam.py:105: UserWarning: The `lr` argument is deprecated, use `learning_rate` instead.\n",
            "  super(Adam, self).__init__(name, **kwargs)\n"
          ]
        },
        {
          "output_type": "stream",
          "name": "stdout",
          "text": [
            "23/23 [==============================] - 1s 11ms/step - loss: 5063159.0000 - accuracy: 0.0541 - val_loss: 5115620.0000 - val_accuracy: 0.0268\n",
            "Epoch 2/20\n",
            "23/23 [==============================] - 0s 3ms/step - loss: 4671042.0000 - accuracy: 0.0541 - val_loss: 4703434.5000 - val_accuracy: 0.0268\n",
            "Epoch 3/20\n",
            "23/23 [==============================] - 0s 5ms/step - loss: 4279660.0000 - accuracy: 0.0541 - val_loss: 4288995.0000 - val_accuracy: 0.0268\n",
            "Epoch 4/20\n",
            "23/23 [==============================] - 0s 3ms/step - loss: 3885660.2500 - accuracy: 0.0541 - val_loss: 3887966.5000 - val_accuracy: 0.0268\n",
            "Epoch 5/20\n",
            "23/23 [==============================] - 0s 4ms/step - loss: 3499336.0000 - accuracy: 0.0541 - val_loss: 3480849.5000 - val_accuracy: 0.0268\n",
            "Epoch 6/20\n",
            "23/23 [==============================] - 0s 4ms/step - loss: 3104091.5000 - accuracy: 0.0541 - val_loss: 3072138.7500 - val_accuracy: 0.0268\n",
            "Epoch 7/20\n",
            "23/23 [==============================] - 0s 4ms/step - loss: 2717715.0000 - accuracy: 0.0541 - val_loss: 2651797.5000 - val_accuracy: 0.0268\n",
            "Epoch 8/20\n",
            "23/23 [==============================] - 0s 4ms/step - loss: 2321559.7500 - accuracy: 0.0541 - val_loss: 2248590.2500 - val_accuracy: 0.0268\n",
            "Epoch 9/20\n",
            "23/23 [==============================] - 0s 4ms/step - loss: 1934621.2500 - accuracy: 0.0541 - val_loss: 1840969.8750 - val_accuracy: 0.0268\n",
            "Epoch 10/20\n",
            "23/23 [==============================] - 0s 4ms/step - loss: 1540051.0000 - accuracy: 0.0541 - val_loss: 1435805.5000 - val_accuracy: 0.0268\n",
            "Epoch 11/20\n",
            "23/23 [==============================] - 0s 3ms/step - loss: 1153090.0000 - accuracy: 0.0541 - val_loss: 1019236.1875 - val_accuracy: 0.0268\n",
            "Epoch 12/20\n",
            "23/23 [==============================] - 0s 3ms/step - loss: 820425.8750 - accuracy: 0.2905 - val_loss: 838626.3750 - val_accuracy: 0.4295\n",
            "Epoch 13/20\n",
            "23/23 [==============================] - 0s 3ms/step - loss: 724232.5000 - accuracy: 0.2905 - val_loss: 754308.3750 - val_accuracy: 0.4295\n",
            "Epoch 14/20\n",
            "23/23 [==============================] - 0s 3ms/step - loss: 653074.5000 - accuracy: 0.2838 - val_loss: 678655.0625 - val_accuracy: 0.4295\n",
            "Epoch 15/20\n",
            "23/23 [==============================] - 0s 3ms/step - loss: 598646.3125 - accuracy: 0.2950 - val_loss: 651131.1875 - val_accuracy: 0.0671\n",
            "Epoch 16/20\n",
            "23/23 [==============================] - 0s 3ms/step - loss: 584682.8750 - accuracy: 0.3063 - val_loss: 636396.0625 - val_accuracy: 0.0268\n",
            "Epoch 17/20\n",
            "23/23 [==============================] - 0s 4ms/step - loss: 574309.0000 - accuracy: 0.2365 - val_loss: 625183.8125 - val_accuracy: 0.4295\n",
            "Epoch 18/20\n",
            "23/23 [==============================] - 0s 3ms/step - loss: 565019.6250 - accuracy: 0.2860 - val_loss: 614733.7500 - val_accuracy: 0.4228\n",
            "Epoch 19/20\n",
            "23/23 [==============================] - 0s 3ms/step - loss: 555285.5000 - accuracy: 0.2973 - val_loss: 604551.4375 - val_accuracy: 0.1812\n",
            "Epoch 20/20\n",
            "23/23 [==============================] - 0s 3ms/step - loss: 547417.5000 - accuracy: 0.2590 - val_loss: 593449.5000 - val_accuracy: 0.0872\n"
          ]
        }
      ]
    },
    {
      "cell_type": "code",
      "metadata": {
        "colab": {
          "base_uri": "https://localhost:8080/",
          "height": 591
        },
        "id": "-SOALOs_6-IY",
        "outputId": "8eb93837-4e3d-437b-e43f-ad6ac16dd762"
      },
      "source": [
        "import matplotlib.pyplot as plt\n",
        "\n",
        "print(H.history.keys())\n",
        "# summarize history for accuracy\n",
        "plt.plot(H.history['accuracy'])\n",
        "plt.plot(H.history['val_accuracy'])\n",
        "plt.title('model accuracy')\n",
        "plt.ylabel('accuracy')\n",
        "plt.xlabel('epoch')\n",
        "plt.legend(['train', 'test'], loc='upper left')\n",
        "plt.show()\n",
        "# summarize history for loss\n",
        "plt.plot(H.history['loss'])\n",
        "plt.plot(H.history['val_loss'])\n",
        "plt.title('model loss')\n",
        "plt.ylabel('loss')\n",
        "plt.xlabel('epoch')\n",
        "plt.legend(['train', 'test'], loc='upper left')\n",
        "plt.show()"
      ],
      "execution_count": 74,
      "outputs": [
        {
          "output_type": "stream",
          "name": "stdout",
          "text": [
            "dict_keys(['loss', 'accuracy', 'val_loss', 'val_accuracy'])\n"
          ]
        },
        {
          "output_type": "display_data",
          "data": {
            "image/png": "[encoded data removed]",
            "text/plain": [
              "<Figure size 432x288 with 1 Axes>"
            ]
          },
          "metadata": {
            "needs_background": "light"
          }
        },
        {
          "output_type": "display_data",
          "data": {
            "image/png": "[encoded data removed]",
            "text/plain": [
              "<Figure size 432x288 with 1 Axes>"
            ]
          },
          "metadata": {
            "needs_background": "light"
          }
        }
      ]
    }
  ]
}